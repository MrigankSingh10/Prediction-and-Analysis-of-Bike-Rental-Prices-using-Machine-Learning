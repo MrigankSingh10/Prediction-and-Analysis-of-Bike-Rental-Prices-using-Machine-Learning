{
 "cells": [
  {
   "cell_type": "code",
   "execution_count": 1,
   "metadata": {},
   "outputs": [],
   "source": [
    "import model_utils as mdu\n",
    "import numpy as np\n",
    "import pandas as pd"
   ]
  },
  {
   "cell_type": "code",
   "execution_count": 2,
   "metadata": {},
   "outputs": [],
   "source": [
    "def predictor(model,data):\n",
    "    data['year']=data.datetime.apply(lambda x:x.split('-')[0])\n",
    "    data['month']=data.datetime.apply(lambda x:x.split('-')[1])\n",
    "    data['date']=data.datetime.apply(lambda x:x.split('-')[2].split()[0])\n",
    "    data['time']=data.datetime.apply(lambda x:x.split()[1].split(':')[0])\n",
    "    \n",
    "    X_date=data.iloc[:,-4:]\n",
    "    \n",
    "    data=data.drop(X_date,axis=1)\n",
    "    data=data.drop(['datetime'],axis=1)\n",
    "    \n",
    "    data=X_date.join(data)\n",
    "    \n",
    "    X_season=data['season'].values\n",
    "    X_weather=data['weather'].values\n",
    "    \n",
    "    data=data.drop(['season','weather'],axis=1)\n",
    "    \n",
    "    X_season=X_season.reshape(len(data),1)\n",
    "    X_weather=X_weather.reshape(len(data),1)\n",
    "    \n",
    "    X_season=model['ohe1'].transform(X_season).toarray().astype(int)\n",
    "    X_weather=model['ohe2'].transform(X_weather).toarray().astype(int)\n",
    "    X_season=X_season[:,1:]\n",
    "    X_weather=X_weather[:,1:]\n",
    "    \n",
    "    X_sw=np.append(X_season,X_weather,axis=1)\n",
    "    \n",
    "    sw=pd.DataFrame(X_sw)\n",
    "    X=data.join(sw,how='right')\n",
    "    X=X.values\n",
    "    \n",
    "    X=model['scaler'].transform(X)\n",
    "    \n",
    "    result=model['model'].predict(X).astype(int)\n",
    "    return result"
   ]
  },
  {
   "cell_type": "code",
   "execution_count": 3,
   "metadata": {},
   "outputs": [
    {
     "ename": "ValueError",
     "evalue": "invalid literal for int() with base 10: ''",
     "output_type": "error",
     "traceback": [
      "\u001b[1;31m---------------------------------------------------------------------------\u001b[0m",
      "\u001b[1;31mValueError\u001b[0m                                Traceback (most recent call last)",
      "\u001b[1;32m<ipython-input-3-c7a20c5226b1>\u001b[0m in \u001b[0;36m<module>\u001b[1;34m\u001b[0m\n\u001b[0;32m      1\u001b[0m \u001b[0mdatetime\u001b[0m\u001b[1;33m=\u001b[0m\u001b[0minput\u001b[0m\u001b[1;33m(\u001b[0m\u001b[1;34m'Datetime: '\u001b[0m\u001b[1;33m)\u001b[0m\u001b[1;33m\u001b[0m\u001b[1;33m\u001b[0m\u001b[0m\n\u001b[1;32m----> 2\u001b[1;33m \u001b[0mseason\u001b[0m\u001b[1;33m=\u001b[0m\u001b[0mint\u001b[0m\u001b[1;33m(\u001b[0m\u001b[0minput\u001b[0m\u001b[1;33m(\u001b[0m\u001b[1;34m'Season(1-4): '\u001b[0m\u001b[1;33m)\u001b[0m\u001b[1;33m)\u001b[0m\u001b[1;33m\u001b[0m\u001b[1;33m\u001b[0m\u001b[0m\n\u001b[0m\u001b[0;32m      3\u001b[0m \u001b[0mholiday\u001b[0m\u001b[1;33m=\u001b[0m\u001b[0mint\u001b[0m\u001b[1;33m(\u001b[0m\u001b[0minput\u001b[0m\u001b[1;33m(\u001b[0m\u001b[1;34m'Holiday(0 or 1): '\u001b[0m\u001b[1;33m)\u001b[0m\u001b[1;33m)\u001b[0m\u001b[1;33m\u001b[0m\u001b[1;33m\u001b[0m\u001b[0m\n\u001b[0;32m      4\u001b[0m \u001b[0mworkingday\u001b[0m\u001b[1;33m=\u001b[0m\u001b[0mint\u001b[0m\u001b[1;33m(\u001b[0m\u001b[0minput\u001b[0m\u001b[1;33m(\u001b[0m\u001b[1;34m'Working Day(0 or 1): '\u001b[0m\u001b[1;33m)\u001b[0m\u001b[1;33m)\u001b[0m\u001b[1;33m\u001b[0m\u001b[1;33m\u001b[0m\u001b[0m\n\u001b[0;32m      5\u001b[0m \u001b[0mweather\u001b[0m\u001b[1;33m=\u001b[0m\u001b[0mint\u001b[0m\u001b[1;33m(\u001b[0m\u001b[0minput\u001b[0m\u001b[1;33m(\u001b[0m\u001b[1;34m'Weather(1-4): '\u001b[0m\u001b[1;33m)\u001b[0m\u001b[1;33m)\u001b[0m\u001b[1;33m\u001b[0m\u001b[1;33m\u001b[0m\u001b[0m\n",
      "\u001b[1;31mValueError\u001b[0m: invalid literal for int() with base 10: ''"
     ]
    }
   ],
   "source": [
    "datetime=input('Datetime: ')\n",
    "season=int(input('Season(1-4): '))\n",
    "holiday=int(input('Holiday(0 or 1): '))\n",
    "workingday=int(input('Working Day(0 or 1): '))\n",
    "weather=int(input('Weather(1-4): '))\n",
    "temp=float(input('Temperature: '))\n",
    "atemp=float(input('Temperature feels like: '))\n",
    "humidity=int(input('Humidity: '))\n",
    "windspeed=float(input('Windspeed: '))\n",
    "\n",
    "data={\n",
    "    'datetime':datetime,\n",
    "    'season':season,\n",
    "    'holiday':holiday,\n",
    "    'workingday':workingday,\n",
    "    'weather':weather,\n",
    "    'temp':temp,\n",
    "    'atemp':atemp,\n",
    "    'humidity':humidity,\n",
    "    'windspeed':windspeed\n",
    "}\n",
    "\n",
    "data=pd.DataFrame([data])"
   ]
  },
  {
   "cell_type": "code",
   "execution_count": 28,
   "metadata": {},
   "outputs": [],
   "source": [
    "ohe1=mdu.load_model(file='bike_sharing_ohe1.p')\n",
    "ohe2=mdu.load_model(file='bike_sharing_ohe2.p')\n",
    "scaler=mdu.load_model(file='bike_sharing_scaler.p')\n",
    "regressor=mdu.load_model(file='bike_sharing_model.p')\n",
    "\n",
    "model={\n",
    "    'ohe1':ohe1,\n",
    "    'ohe2':ohe2,\n",
    "    'scaler':scaler,\n",
    "    'model':regressor\n",
    "}"
   ]
  },
  {
   "cell_type": "code",
   "execution_count": 29,
   "metadata": {},
   "outputs": [],
   "source": [
    "test_data=pd.read_csv('input/bike-sharing-demand/test.csv')"
   ]
  },
  {
   "cell_type": "code",
   "execution_count": 30,
   "metadata": {},
   "outputs": [],
   "source": [
    "test_pred=predictor(model,test_data)"
   ]
  },
  {
   "cell_type": "code",
   "execution_count": 31,
   "metadata": {},
   "outputs": [],
   "source": [
    "submission=pd.DataFrame(test_pred,index=test_data['datetime'],columns=['Count Predictions'])"
   ]
  },
  {
   "cell_type": "code",
   "execution_count": 32,
   "metadata": {},
   "outputs": [],
   "source": [
    "submission.to_csv(r'output/submission.csv')"
   ]
  },
  {
   "cell_type": "code",
   "execution_count": null,
   "metadata": {},
   "outputs": [],
   "source": []
  }
 ],
 "metadata": {
  "kernelspec": {
   "display_name": "Python 3",
   "language": "python",
   "name": "python3"
  },
  "language_info": {
   "codemirror_mode": {
    "name": "ipython",
    "version": 3
   },
   "file_extension": ".py",
   "mimetype": "text/x-python",
   "name": "python",
   "nbconvert_exporter": "python",
   "pygments_lexer": "ipython3",
   "version": "3.6.10"
  }
 },
 "nbformat": 4,
 "nbformat_minor": 4
}
